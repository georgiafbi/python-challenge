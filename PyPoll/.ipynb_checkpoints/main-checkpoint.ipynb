{
 "cells": [
  {
   "cell_type": "code",
   "execution_count": 80,
   "metadata": {},
   "outputs": [],
   "source": [
    "#import dependencies\n",
    "import csv\n",
    "import os"
   ]
  },
  {
   "cell_type": "code",
   "execution_count": 82,
   "metadata": {},
   "outputs": [],
   "source": [
    "#lists and variables to store election_data.csv column data\n",
    "Voter_ID=[]\n",
    "Total_Votes=0\n",
    "County = []\n",
    "Candidate=[]\n",
    "election_county={}\n",
    "election_voter={}\n",
    "percentages\n",
    "#get unique candidate name\n",
    "\n",
    "def candidate_name(name):\n",
    "    #if candidate is no in list append list\n",
    "    if not name in Candidate:\n",
    "        Candidate.append(name)\n",
    "#get voter_id and county for candidate\n",
    "\n",
    "#updates dictionaries that store each candidates vote and county won\n",
    "def voter_and_county(voter,county,name,row):\n",
    "    #for each candidate get the vote and county they got and store it a dictionary\n",
    "    election_voter.setdefault(name,[]).append(voter)\n",
    "    election_county.setdefault(name,[]).append(county)\n",
    "#calculates percentages of votes each candidate won\n",
    "def vote_percentages():\n",
    "    "
   ]
  },
  {
   "cell_type": "code",
   "execution_count": 83,
   "metadata": {},
   "outputs": [],
   "source": [
    "#get path of PayPoll.csv\n",
    "PyPoll_Path = os.path.join(\"Resources\",\"election_data.csv\" )"
   ]
  },
  {
   "cell_type": "code",
   "execution_count": 84,
   "metadata": {},
   "outputs": [],
   "source": [
    "#open PyPoll_Path\n",
    "with open(PyPoll_Path) as PyPoll_File:\n",
    "    #read file and separate items by comma\n",
    "    PyPoll_Reader = csv.reader(PyPoll_File, delimiter=',')\n",
    "    \n",
    "   \n",
    "\n",
    "    #remove header\n",
    "    PyPoll_Header = next(PyPoll_Reader)\n",
    "    PyPoll_Header\n",
    "\n",
    "    #loop through each row of the PyPoll data\n",
    "    for row in PyPoll_Reader:\n",
    "        #store row data into its corresponding lists\n",
    "        Voter_ID.append(row[0])\n",
    "        candidate_name(row[2])\n",
    "        voter_and_county(row[0],row[1],row[2],row)"
   ]
  },
  {
   "cell_type": "code",
   "execution_count": 91,
   "metadata": {},
   "outputs": [
    {
     "data": {
      "text/plain": [
       "3521001"
      ]
     },
     "execution_count": 91,
     "metadata": {},
     "output_type": "execute_result"
    }
   ],
   "source": [
    "Total_Votes=len(Voter_ID)\n",
    "Total_Votes"
   ]
  },
  {
   "cell_type": "code",
   "execution_count": null,
   "metadata": {},
   "outputs": [],
   "source": []
  }
 ],
 "metadata": {
  "kernelspec": {
   "display_name": "Python 3",
   "language": "python",
   "name": "python3"
  },
  "language_info": {
   "name": ""
  }
 },
 "nbformat": 4,
 "nbformat_minor": 4
}
